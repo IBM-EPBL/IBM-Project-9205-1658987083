{
  "cells": [
    {
      "cell_type": "markdown",
      "metadata": {
        "id": "Qn4UUFRxzUPt"
      },
      "source": [
        "## FOR BODY DAMAGE\n",
        "\n",
        "## IMAGE PRE PROCESSING\n",
        "\n",
        "## 1. Import The ImageDataGenerator Library"
      ]
    },
    {
      "cell_type": "code",
      "execution_count": null,
      "metadata": {
        "id": "4838q4kRzNBn"
      },
      "outputs": [],
      "source": [
        "from tensorflow.keras.preprocessing.image import ImageDataGenerator"
      ]
    },
    {
      "cell_type": "markdown",
      "metadata": {
        "id": "O3uexyDXzeJa"
      },
      "source": [
        "## :2. Configure ImageDataGenerator Class\n",
        "\n",
        "##   Image Data Augmentation"
      ]
    },
    {
      "cell_type": "code",
      "execution_count": null,
      "metadata": {
        "id": "idj1_FIbzh26"
      },
      "outputs": [],
      "source": [
        "train_datagen = ImageDataGenerator(rescale = 1./255,\n",
        "                                   shear_range = 0.1,\n",
        "                                   zoom_range = 0.1,\n",
        "                                   horizontal_flip = True)\n",
        "\n",
        "test_datagen = ImageDataGenerator(rescale = 1./255)"
      ]
    },
    {
      "cell_type": "markdown",
      "metadata": {
        "id": "Lbfax5Un0iyZ"
      },
      "source": [
        "## 3. Apply ImageDataGenerator Functionality To Trainset And Testset"
      ]
    },
    {
      "cell_type": "code",
      "execution_count": null,
      "metadata": {
        "colab": {
          "base_uri": "https://localhost:8080/"
        },
        "id": "jfBqTICe0oDw",
        "outputId": "f5c89483-9deb-4df6-c430-48d76423abd1"
      },
      "outputs": [
        {
          "output_type": "stream",
          "name": "stdout",
          "text": [
            "Found 979 images belonging to 3 classes.\n",
            "Found 171 images belonging to 3 classes.\n"
          ]
        }
      ],
      "source": [
        "training_set = train_datagen.flow_from_directory('/content/drive/MyDrive/IBM - PROJECT/Data set/body-20221023T072112Z-001/body/training',\n",
        "                                                 target_size = (224, 224),\n",
        "                                                 batch_size = 10,\n",
        "                                                 class_mode = 'categorical')\n",
        "test_set = test_datagen.flow_from_directory('/content/drive/MyDrive/IBM - PROJECT/Data set/body-20221023T072112Z-001/body/validation',\n",
        "                                            target_size = (224, 224),\n",
        "                                            batch_size = 10,\n",
        "                                            class_mode = 'categorical')"
      ]
    },
    {
      "cell_type": "markdown",
      "metadata": {
        "id": "nvQGYYCNNZCO"
      },
      "source": [
        "## **MODEL BUILDING**"
      ]
    },
    {
      "cell_type": "markdown",
      "source": [
        "## 1. Importing The Model Building Libraries "
      ],
      "metadata": {
        "id": "toIld6jtXWn5"
      }
    },
    {
      "cell_type": "code",
      "execution_count": null,
      "metadata": {
        "id": "ROpU2I1xNdff"
      },
      "outputs": [],
      "source": [
        "import tensorflow as tf\n",
        "from tensorflow.keras.layers import Input, Lambda, Dense, Flatten\n",
        "from tensorflow.keras.models import Model\n",
        "from tensorflow.keras.applications.vgg16 import VGG16\n",
        "from tensorflow.keras.applications.vgg19 import VGG19\n",
        "from tensorflow.keras.preprocessing import image\n",
        "from tensorflow.keras.preprocessing.image import ImageDataGenerator,load_img\n",
        "from tensorflow.keras.models import Sequential\n",
        "import numpy as np\n",
        "from glob import glob"
      ]
    },
    {
      "cell_type": "markdown",
      "metadata": {
        "id": "YeYiGcj-OyFc"
      },
      "source": [
        "## 2. Loading The Model"
      ]
    },
    {
      "cell_type": "code",
      "execution_count": null,
      "metadata": {
        "id": "ajtZEblFOxGq"
      },
      "outputs": [],
      "source": [
        "IMAGE_SIZE = [224, 224]\n",
        "\n",
        "train_path = '/content/drive/MyDrive/IBM - PROJECT/Data set/body-20221023T072112Z-001/body/training'\n",
        "valid_path = '/content/drive/MyDrive/IBM - PROJECT/Data set/body-20221023T072112Z-001/body/validation'"
      ]
    },
    {
      "cell_type": "code",
      "execution_count": null,
      "metadata": {
        "colab": {
          "base_uri": "https://localhost:8080/"
        },
        "id": "Ug7ikOz_PY4B",
        "outputId": "01435712-b500-4d11-ad17-88491f6d3bb9"
      },
      "outputs": [
        {
          "output_type": "stream",
          "name": "stdout",
          "text": [
            "Downloading data from https://storage.googleapis.com/tensorflow/keras-applications/vgg16/vgg16_weights_tf_dim_ordering_tf_kernels_notop.h5\n",
            "58889256/58889256 [==============================] - 0s 0us/step\n"
          ]
        }
      ],
      "source": [
        "vgg16 = VGG16(input_shape=IMAGE_SIZE + [3], weights='imagenet', include_top=False)"
      ]
    },
    {
      "cell_type": "markdown",
      "metadata": {
        "id": "MiGnmx5hPh4Z"
      },
      "source": [
        "## 3. Adding Flatten Layer"
      ]
    },
    {
      "cell_type": "code",
      "execution_count": null,
      "metadata": {
        "id": "xAg7h2HxPlhq"
      },
      "outputs": [],
      "source": [
        "for layer in vgg16.layers:\n",
        "    layer.trainable = False"
      ]
    },
    {
      "cell_type": "code",
      "execution_count": null,
      "metadata": {
        "id": "KkQufWiOPs5N"
      },
      "outputs": [],
      "source": [
        "folders = glob('/content/drive/MyDrive/IBM - PROJECT/Data set/body-20221023T072112Z-001/body/training/*')"
      ]
    },
    {
      "cell_type": "code",
      "execution_count": null,
      "metadata": {
        "colab": {
          "base_uri": "https://localhost:8080/"
        },
        "id": "wKMJgYzKP76F",
        "outputId": "38e791f1-59a2-4ccb-9fcb-6862641753fe"
      },
      "outputs": [
        {
          "output_type": "execute_result",
          "data": {
            "text/plain": [
              "['/content/drive/MyDrive/IBM - PROJECT/Data set/body-20221023T072112Z-001/body/training/02-side',\n",
              " '/content/drive/MyDrive/IBM - PROJECT/Data set/body-20221023T072112Z-001/body/training/01-rear',\n",
              " '/content/drive/MyDrive/IBM - PROJECT/Data set/body-20221023T072112Z-001/body/training/00-front']"
            ]
          },
          "metadata": {},
          "execution_count": 9
        }
      ],
      "source": [
        "folders"
      ]
    },
    {
      "cell_type": "code",
      "execution_count": null,
      "metadata": {
        "id": "M8Kfjl8JQVXw"
      },
      "outputs": [],
      "source": [
        "x = Flatten()(vgg16.output)"
      ]
    },
    {
      "cell_type": "code",
      "execution_count": null,
      "metadata": {
        "colab": {
          "base_uri": "https://localhost:8080/"
        },
        "id": "7aZjgiAURDVZ",
        "outputId": "cd9c45fc-9d5c-4c08-a6e6-6f19d3469b73"
      },
      "outputs": [
        {
          "output_type": "execute_result",
          "data": {
            "text/plain": [
              "3"
            ]
          },
          "metadata": {},
          "execution_count": 11
        }
      ],
      "source": [
        "len(folders)"
      ]
    },
    {
      "cell_type": "markdown",
      "metadata": {
        "id": "IxLrq_RiRMrB"
      },
      "source": [
        "## **4. Adding Output Layer**"
      ]
    },
    {
      "cell_type": "code",
      "execution_count": null,
      "metadata": {
        "id": "pUlZpdbjRQKc"
      },
      "outputs": [],
      "source": [
        "prediction = Dense(len(folders), activation='softmax')(x)"
      ]
    },
    {
      "cell_type": "markdown",
      "metadata": {
        "id": "aEOHI7TtRcVl"
      },
      "source": [
        "## **5. Creating A Model Object**"
      ]
    },
    {
      "cell_type": "code",
      "execution_count": null,
      "metadata": {
        "id": "rmfTcklwRee5"
      },
      "outputs": [],
      "source": [
        "model = Model(inputs=vgg16.input, outputs=prediction)"
      ]
    },
    {
      "cell_type": "code",
      "execution_count": null,
      "metadata": {
        "colab": {
          "base_uri": "https://localhost:8080/"
        },
        "id": "5ttf-p41Rjri",
        "outputId": "52a237ee-6bbd-49ca-e59e-f43a47e8c96d"
      },
      "outputs": [
        {
          "output_type": "stream",
          "name": "stdout",
          "text": [
            "Model: \"model\"\n",
            "_________________________________________________________________\n",
            " Layer (type)                Output Shape              Param #   \n",
            "=================================================================\n",
            " input_1 (InputLayer)        [(None, 224, 224, 3)]     0         \n",
            "                                                                 \n",
            " block1_conv1 (Conv2D)       (None, 224, 224, 64)      1792      \n",
            "                                                                 \n",
            " block1_conv2 (Conv2D)       (None, 224, 224, 64)      36928     \n",
            "                                                                 \n",
            " block1_pool (MaxPooling2D)  (None, 112, 112, 64)      0         \n",
            "                                                                 \n",
            " block2_conv1 (Conv2D)       (None, 112, 112, 128)     73856     \n",
            "                                                                 \n",
            " block2_conv2 (Conv2D)       (None, 112, 112, 128)     147584    \n",
            "                                                                 \n",
            " block2_pool (MaxPooling2D)  (None, 56, 56, 128)       0         \n",
            "                                                                 \n",
            " block3_conv1 (Conv2D)       (None, 56, 56, 256)       295168    \n",
            "                                                                 \n",
            " block3_conv2 (Conv2D)       (None, 56, 56, 256)       590080    \n",
            "                                                                 \n",
            " block3_conv3 (Conv2D)       (None, 56, 56, 256)       590080    \n",
            "                                                                 \n",
            " block3_pool (MaxPooling2D)  (None, 28, 28, 256)       0         \n",
            "                                                                 \n",
            " block4_conv1 (Conv2D)       (None, 28, 28, 512)       1180160   \n",
            "                                                                 \n",
            " block4_conv2 (Conv2D)       (None, 28, 28, 512)       2359808   \n",
            "                                                                 \n",
            " block4_conv3 (Conv2D)       (None, 28, 28, 512)       2359808   \n",
            "                                                                 \n",
            " block4_pool (MaxPooling2D)  (None, 14, 14, 512)       0         \n",
            "                                                                 \n",
            " block5_conv1 (Conv2D)       (None, 14, 14, 512)       2359808   \n",
            "                                                                 \n",
            " block5_conv2 (Conv2D)       (None, 14, 14, 512)       2359808   \n",
            "                                                                 \n",
            " block5_conv3 (Conv2D)       (None, 14, 14, 512)       2359808   \n",
            "                                                                 \n",
            " block5_pool (MaxPooling2D)  (None, 7, 7, 512)         0         \n",
            "                                                                 \n",
            " flatten (Flatten)           (None, 25088)             0         \n",
            "                                                                 \n",
            " dense (Dense)               (None, 3)                 75267     \n",
            "                                                                 \n",
            "=================================================================\n",
            "Total params: 14,789,955\n",
            "Trainable params: 75,267\n",
            "Non-trainable params: 14,714,688\n",
            "_________________________________________________________________\n"
          ]
        }
      ],
      "source": [
        "model.summary()"
      ]
    },
    {
      "cell_type": "markdown",
      "metadata": {
        "id": "yNTj7GtvRzcH"
      },
      "source": [
        "## **6. Configure The Learning Process**"
      ]
    },
    {
      "cell_type": "code",
      "execution_count": null,
      "metadata": {
        "id": "30mbTV5aR1FW"
      },
      "outputs": [],
      "source": [
        "model.compile(\n",
        "  loss='categorical_crossentropy',\n",
        "  optimizer='adam',\n",
        "  metrics=['accuracy']\n",
        ")"
      ]
    },
    {
      "cell_type": "markdown",
      "metadata": {
        "id": "UmWGddbTR6kU"
      },
      "source": [
        "## **7. Train The Model**"
      ]
    },
    {
      "cell_type": "code",
      "execution_count": null,
      "metadata": {
        "colab": {
          "base_uri": "https://localhost:8080/"
        },
        "id": "TGniEz4zR7_g",
        "outputId": "777aaa1f-978e-4208-96d2-ebcd93411ad1"
      },
      "outputs": [
        {
          "metadata": {
            "tags": null
          },
          "name": "stderr",
          "output_type": "stream",
          "text": [
            "/usr/local/lib/python3.7/dist-packages/ipykernel_launcher.py:6: UserWarning: `Model.fit_generator` is deprecated and will be removed in a future version. Please use `Model.fit`, which supports generators.\n",
            "  \n"
          ]
        },
        {
          "output_type": "stream",
          "name": "stdout",
          "text": [
            "Epoch 1/25\n",
            "98/98 [==============================] - 560s 6s/step - loss: 1.2275 - accuracy: 0.5383 - val_loss: 0.8698 - val_accuracy: 0.6608\n",
            "Epoch 2/25\n",
            "98/98 [==============================] - 584s 6s/step - loss: 0.7810 - accuracy: 0.7007 - val_loss: 0.8931 - val_accuracy: 0.6491\n",
            "Epoch 3/25\n",
            "98/98 [==============================] - 538s 5s/step - loss: 0.4842 - accuracy: 0.8264 - val_loss: 0.8348 - val_accuracy: 0.6842\n",
            "Epoch 4/25\n",
            "98/98 [==============================] - 537s 5s/step - loss: 0.3813 - accuracy: 0.8560 - val_loss: 0.9010 - val_accuracy: 0.6901\n",
            "Epoch 5/25\n",
            "98/98 [==============================] - 537s 5s/step - loss: 0.2735 - accuracy: 0.8999 - val_loss: 1.0660 - val_accuracy: 0.6901\n",
            "Epoch 6/25\n",
            "98/98 [==============================] - 538s 5s/step - loss: 0.2211 - accuracy: 0.9295 - val_loss: 1.0073 - val_accuracy: 0.7076\n",
            "Epoch 7/25\n",
            "98/98 [==============================] - 536s 5s/step - loss: 0.2163 - accuracy: 0.9224 - val_loss: 0.9560 - val_accuracy: 0.7251\n",
            "Epoch 8/25\n",
            "98/98 [==============================] - 538s 6s/step - loss: 0.1728 - accuracy: 0.9397 - val_loss: 1.0719 - val_accuracy: 0.6491\n",
            "Epoch 9/25\n",
            "98/98 [==============================] - 540s 6s/step - loss: 0.1423 - accuracy: 0.9581 - val_loss: 1.0706 - val_accuracy: 0.6901\n",
            "Epoch 10/25\n",
            "98/98 [==============================] - 539s 6s/step - loss: 0.1118 - accuracy: 0.9704 - val_loss: 1.1651 - val_accuracy: 0.6842\n",
            "Epoch 11/25\n",
            "98/98 [==============================] - 538s 5s/step - loss: 0.0808 - accuracy: 0.9785 - val_loss: 1.1212 - val_accuracy: 0.7076\n",
            "Epoch 12/25\n",
            "98/98 [==============================] - 549s 6s/step - loss: 0.0751 - accuracy: 0.9857 - val_loss: 1.1451 - val_accuracy: 0.6842\n",
            "Epoch 13/25\n",
            "98/98 [==============================] - 555s 6s/step - loss: 0.0730 - accuracy: 0.9816 - val_loss: 1.0812 - val_accuracy: 0.6842\n",
            "Epoch 14/25\n",
            "98/98 [==============================] - 535s 5s/step - loss: 0.1074 - accuracy: 0.9734 - val_loss: 1.2204 - val_accuracy: 0.6842\n",
            "Epoch 15/25\n",
            "98/98 [==============================] - 539s 6s/step - loss: 0.0598 - accuracy: 0.9888 - val_loss: 1.6480 - val_accuracy: 0.6316\n",
            "Epoch 16/25\n",
            "98/98 [==============================] - 543s 6s/step - loss: 0.0810 - accuracy: 0.9806 - val_loss: 1.2050 - val_accuracy: 0.6901\n",
            "Epoch 17/25\n",
            "98/98 [==============================] - 541s 6s/step - loss: 0.1196 - accuracy: 0.9632 - val_loss: 1.3478 - val_accuracy: 0.6374\n",
            "Epoch 18/25\n",
            "98/98 [==============================] - 543s 6s/step - loss: 0.0915 - accuracy: 0.9755 - val_loss: 1.2961 - val_accuracy: 0.7018\n",
            "Epoch 19/25\n",
            "98/98 [==============================] - 544s 6s/step - loss: 0.0687 - accuracy: 0.9806 - val_loss: 1.2175 - val_accuracy: 0.6842\n",
            "Epoch 20/25\n",
            "98/98 [==============================] - 546s 6s/step - loss: 0.0492 - accuracy: 0.9918 - val_loss: 1.3791 - val_accuracy: 0.6784\n",
            "Epoch 21/25\n",
            "98/98 [==============================] - 543s 6s/step - loss: 0.0674 - accuracy: 0.9847 - val_loss: 1.5585 - val_accuracy: 0.6433\n",
            "Epoch 22/25\n",
            "98/98 [==============================] - 537s 5s/step - loss: 0.0740 - accuracy: 0.9775 - val_loss: 1.7693 - val_accuracy: 0.6550\n",
            "Epoch 23/25\n",
            "98/98 [==============================] - 538s 6s/step - loss: 0.0822 - accuracy: 0.9765 - val_loss: 1.9127 - val_accuracy: 0.6374\n",
            "Epoch 24/25\n",
            "98/98 [==============================] - 541s 6s/step - loss: 0.1048 - accuracy: 0.9653 - val_loss: 1.5448 - val_accuracy: 0.6316\n",
            "Epoch 25/25\n",
            "98/98 [==============================] - 544s 6s/step - loss: 0.1373 - accuracy: 0.9551 - val_loss: 1.4574 - val_accuracy: 0.6842\n"
          ]
        }
      ],
      "source": [
        "r = model.fit_generator(\n",
        "  training_set,\n",
        "  validation_data=test_set,\n",
        "  epochs=25,\n",
        "  steps_per_epoch=len(training_set),\n",
        "  validation_steps=len(test_set)\n",
        ")"
      ]
    },
    {
      "cell_type": "markdown",
      "metadata": {
        "id": "JufLw_fpXx_r"
      },
      "source": [
        "## **8. Save The Model**"
      ]
    },
    {
      "cell_type": "code",
      "source": [],
      "metadata": {
        "id": "srlZq1pZoSZK"
      },
      "execution_count": null,
      "outputs": []
    },
    {
      "cell_type": "code",
      "execution_count": null,
      "metadata": {
        "id": "_s2O3JihX3FB"
      },
      "outputs": [],
      "source": [
        "from tensorflow.keras.models import load_model\n",
        "\n",
        "model.save('/content/drive/MyDrive/Intelligent Vehicle Damage Assessment & Cost Estimator For Insurance Companies/Model/body.h5')"
      ]
    },
    {
      "cell_type": "markdown",
      "source": [
        "## **9. Test The Model**"
      ],
      "metadata": {
        "id": "tnu9VCKzo_f4"
      }
    },
    {
      "cell_type": "code",
      "source": [
        "from tensorflow.keras.models import load_model\n",
        "import cv2\n",
        "from skimage.transform import resize"
      ],
      "metadata": {
        "id": "Odx0egOepDgU"
      },
      "execution_count": null,
      "outputs": []
    },
    {
      "cell_type": "code",
      "source": [
        "model = load_model('/content/drive/MyDrive/Intelligent Vehicle Damage Assessment & Cost Estimator For Insurance Companies/Model/body.h5')"
      ],
      "metadata": {
        "id": "QmGjQa0SpISe"
      },
      "execution_count": null,
      "outputs": []
    },
    {
      "cell_type": "code",
      "source": [
        "def detect(frame):\n",
        "  img = cv2.resize(frame,(224,224))\n",
        "  img = cv2.cvtColor(img,cv2.COLOR_BGR2RGB)\n",
        "\n",
        "  if(np.max(img)>1):\n",
        "    img = img/255.0\n",
        "  img = np.array([img])\n",
        "  prediction = model.predict(img)\n",
        "  label = [\"front\",\"rear\",\"side\"]\n",
        "  preds = label[np.argmax(prediction)]\n",
        "  return preds"
      ],
      "metadata": {
        "id": "EFE49iRIpM0u"
      },
      "execution_count": null,
      "outputs": []
    },
    {
      "cell_type": "code",
      "source": [
        "import numpy as np"
      ],
      "metadata": {
        "id": "6FlRMTs0peYW"
      },
      "execution_count": null,
      "outputs": []
    },
    {
      "cell_type": "code",
      "source": [
        "data = \"/content/drive/MyDrive/IBM - PROJECT/Data set/body-20221023T072112Z-001/body/training/00-front/0008.jpeg\"\n",
        "image = cv2.imread(data)\n",
        "print(detect(image))"
      ],
      "metadata": {
        "colab": {
          "base_uri": "https://localhost:8080/"
        },
        "id": "IaeSdVQHpjzj",
        "outputId": "17e4f0bf-3548-48fa-d970-7d1cdc94164f"
      },
      "execution_count": null,
      "outputs": [
        {
          "output_type": "stream",
          "name": "stdout",
          "text": [
            "1/1 [==============================] - 0s 498ms/step\n",
            "front\n"
          ]
        }
      ]
    },
    {
      "cell_type": "markdown",
      "source": [],
      "metadata": {
        "id": "Dprs3HHPbV-e"
      }
    }
  ],
  "metadata": {
    "colab": {
      "collapsed_sections": [],
      "provenance": []
    },
    "kernelspec": {
      "display_name": "Python 3",
      "name": "python3"
    },
    "language_info": {
      "name": "python"
    }
  },
  "nbformat": 4,
  "nbformat_minor": 0
}